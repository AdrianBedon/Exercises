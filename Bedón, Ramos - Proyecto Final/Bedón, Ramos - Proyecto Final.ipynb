{
 "cells": [
  {
   "cell_type": "code",
   "execution_count": 1,
   "metadata": {},
   "outputs": [],
   "source": [
    "import pandas as pd\n",
    "import numpy as np\n",
    "import matplotlib.pyplot as plt\n",
    "import sklearn.neural_network as snn\n",
    "from sklearn import svm\n",
    "from sklearn import metrics\n",
    "from sklearn import neighbors\n",
    "from sklearn.preprocessing import LabelEncoder\n",
    "from sklearn.preprocessing import OneHotEncoder\n",
    "from sklearn.model_selection import train_test_split\n",
    "from sklearn.linear_model import LogisticRegression"
   ]
  },
  {
   "cell_type": "code",
   "execution_count": 2,
   "metadata": {},
   "outputs": [],
   "source": [
    "label_encoder = LabelEncoder()"
   ]
  },
  {
   "cell_type": "code",
   "execution_count": 3,
   "metadata": {},
   "outputs": [
    {
     "name": "stdout",
     "output_type": "stream",
     "text": [
      "Number                 0\n",
      "Sleep                273\n",
      "Appetite             273\n",
      "Interest             273\n",
      "Fatigue              273\n",
      "Worthlessness        273\n",
      "Concentration        273\n",
      "Agitation            273\n",
      "Suicidal Ideation    273\n",
      "Sleep Disturbance    273\n",
      "Aggression           273\n",
      "Panic Attacks        273\n",
      "Hopelessness         273\n",
      "Restlessness         273\n",
      "Low Energy           273\n",
      "Depression State     273\n",
      "dtype: int64\n"
     ]
    },
    {
     "data": {
      "text/html": [
       "<div>\n",
       "<style scoped>\n",
       "    .dataframe tbody tr th:only-of-type {\n",
       "        vertical-align: middle;\n",
       "    }\n",
       "\n",
       "    .dataframe tbody tr th {\n",
       "        vertical-align: top;\n",
       "    }\n",
       "\n",
       "    .dataframe thead th {\n",
       "        text-align: right;\n",
       "    }\n",
       "</style>\n",
       "<table border=\"1\" class=\"dataframe\">\n",
       "  <thead>\n",
       "    <tr style=\"text-align: right;\">\n",
       "      <th></th>\n",
       "      <th>Number</th>\n",
       "      <th>Sleep</th>\n",
       "      <th>Appetite</th>\n",
       "      <th>Interest</th>\n",
       "      <th>Fatigue</th>\n",
       "      <th>Worthlessness</th>\n",
       "      <th>Concentration</th>\n",
       "      <th>Agitation</th>\n",
       "      <th>Suicidal Ideation</th>\n",
       "      <th>Sleep Disturbance</th>\n",
       "      <th>Aggression</th>\n",
       "      <th>Panic Attacks</th>\n",
       "      <th>Hopelessness</th>\n",
       "      <th>Restlessness</th>\n",
       "      <th>Low Energy</th>\n",
       "      <th>Depression State</th>\n",
       "    </tr>\n",
       "  </thead>\n",
       "  <tbody>\n",
       "    <tr>\n",
       "      <th>0</th>\n",
       "      <td>1</td>\n",
       "      <td>1.0</td>\n",
       "      <td>1.0</td>\n",
       "      <td>1.0</td>\n",
       "      <td>5.0</td>\n",
       "      <td>5.0</td>\n",
       "      <td>1.0</td>\n",
       "      <td>5.0</td>\n",
       "      <td>5.0</td>\n",
       "      <td>1.0</td>\n",
       "      <td>5.0</td>\n",
       "      <td>5.0</td>\n",
       "      <td>5.0</td>\n",
       "      <td>5.0</td>\n",
       "      <td>5.0</td>\n",
       "      <td>Mild</td>\n",
       "    </tr>\n",
       "    <tr>\n",
       "      <th>1</th>\n",
       "      <td>2</td>\n",
       "      <td>2.0</td>\n",
       "      <td>5.0</td>\n",
       "      <td>5.0</td>\n",
       "      <td>1.0</td>\n",
       "      <td>1.0</td>\n",
       "      <td>5.0</td>\n",
       "      <td>1.0</td>\n",
       "      <td>1.0</td>\n",
       "      <td>5.0</td>\n",
       "      <td>1.0</td>\n",
       "      <td>1.0</td>\n",
       "      <td>1.0</td>\n",
       "      <td>1.0</td>\n",
       "      <td>1.0</td>\n",
       "      <td>Moderate</td>\n",
       "    </tr>\n",
       "    <tr>\n",
       "      <th>2</th>\n",
       "      <td>3</td>\n",
       "      <td>5.0</td>\n",
       "      <td>2.0</td>\n",
       "      <td>2.0</td>\n",
       "      <td>2.0</td>\n",
       "      <td>2.0</td>\n",
       "      <td>2.0</td>\n",
       "      <td>2.0</td>\n",
       "      <td>2.0</td>\n",
       "      <td>2.0</td>\n",
       "      <td>2.0</td>\n",
       "      <td>2.0</td>\n",
       "      <td>2.0</td>\n",
       "      <td>2.0</td>\n",
       "      <td>2.0</td>\n",
       "      <td>Severe</td>\n",
       "    </tr>\n",
       "    <tr>\n",
       "      <th>3</th>\n",
       "      <td>4</td>\n",
       "      <td>1.0</td>\n",
       "      <td>1.0</td>\n",
       "      <td>1.0</td>\n",
       "      <td>5.0</td>\n",
       "      <td>5.0</td>\n",
       "      <td>1.0</td>\n",
       "      <td>5.0</td>\n",
       "      <td>5.0</td>\n",
       "      <td>1.0</td>\n",
       "      <td>5.0</td>\n",
       "      <td>5.0</td>\n",
       "      <td>5.0</td>\n",
       "      <td>5.0</td>\n",
       "      <td>5.0</td>\n",
       "      <td>No depression</td>\n",
       "    </tr>\n",
       "    <tr>\n",
       "      <th>4</th>\n",
       "      <td>5</td>\n",
       "      <td>2.0</td>\n",
       "      <td>5.0</td>\n",
       "      <td>5.0</td>\n",
       "      <td>1.0</td>\n",
       "      <td>1.0</td>\n",
       "      <td>5.0</td>\n",
       "      <td>1.0</td>\n",
       "      <td>1.0</td>\n",
       "      <td>5.0</td>\n",
       "      <td>1.0</td>\n",
       "      <td>1.0</td>\n",
       "      <td>1.0</td>\n",
       "      <td>1.0</td>\n",
       "      <td>1.0</td>\n",
       "      <td>Moderate</td>\n",
       "    </tr>\n",
       "    <tr>\n",
       "      <th>...</th>\n",
       "      <td>...</td>\n",
       "      <td>...</td>\n",
       "      <td>...</td>\n",
       "      <td>...</td>\n",
       "      <td>...</td>\n",
       "      <td>...</td>\n",
       "      <td>...</td>\n",
       "      <td>...</td>\n",
       "      <td>...</td>\n",
       "      <td>...</td>\n",
       "      <td>...</td>\n",
       "      <td>...</td>\n",
       "      <td>...</td>\n",
       "      <td>...</td>\n",
       "      <td>...</td>\n",
       "      <td>...</td>\n",
       "    </tr>\n",
       "    <tr>\n",
       "      <th>808</th>\n",
       "      <td>809</td>\n",
       "      <td>NaN</td>\n",
       "      <td>NaN</td>\n",
       "      <td>NaN</td>\n",
       "      <td>NaN</td>\n",
       "      <td>NaN</td>\n",
       "      <td>NaN</td>\n",
       "      <td>NaN</td>\n",
       "      <td>NaN</td>\n",
       "      <td>NaN</td>\n",
       "      <td>NaN</td>\n",
       "      <td>NaN</td>\n",
       "      <td>NaN</td>\n",
       "      <td>NaN</td>\n",
       "      <td>NaN</td>\n",
       "      <td>NaN</td>\n",
       "    </tr>\n",
       "    <tr>\n",
       "      <th>809</th>\n",
       "      <td>810</td>\n",
       "      <td>NaN</td>\n",
       "      <td>NaN</td>\n",
       "      <td>NaN</td>\n",
       "      <td>NaN</td>\n",
       "      <td>NaN</td>\n",
       "      <td>NaN</td>\n",
       "      <td>NaN</td>\n",
       "      <td>NaN</td>\n",
       "      <td>NaN</td>\n",
       "      <td>NaN</td>\n",
       "      <td>NaN</td>\n",
       "      <td>NaN</td>\n",
       "      <td>NaN</td>\n",
       "      <td>NaN</td>\n",
       "      <td>NaN</td>\n",
       "    </tr>\n",
       "    <tr>\n",
       "      <th>810</th>\n",
       "      <td>811</td>\n",
       "      <td>NaN</td>\n",
       "      <td>NaN</td>\n",
       "      <td>NaN</td>\n",
       "      <td>NaN</td>\n",
       "      <td>NaN</td>\n",
       "      <td>NaN</td>\n",
       "      <td>NaN</td>\n",
       "      <td>NaN</td>\n",
       "      <td>NaN</td>\n",
       "      <td>NaN</td>\n",
       "      <td>NaN</td>\n",
       "      <td>NaN</td>\n",
       "      <td>NaN</td>\n",
       "      <td>NaN</td>\n",
       "      <td>NaN</td>\n",
       "    </tr>\n",
       "    <tr>\n",
       "      <th>811</th>\n",
       "      <td>812</td>\n",
       "      <td>NaN</td>\n",
       "      <td>NaN</td>\n",
       "      <td>NaN</td>\n",
       "      <td>NaN</td>\n",
       "      <td>NaN</td>\n",
       "      <td>NaN</td>\n",
       "      <td>NaN</td>\n",
       "      <td>NaN</td>\n",
       "      <td>NaN</td>\n",
       "      <td>NaN</td>\n",
       "      <td>NaN</td>\n",
       "      <td>NaN</td>\n",
       "      <td>NaN</td>\n",
       "      <td>NaN</td>\n",
       "      <td>NaN</td>\n",
       "    </tr>\n",
       "    <tr>\n",
       "      <th>812</th>\n",
       "      <td>813</td>\n",
       "      <td>NaN</td>\n",
       "      <td>NaN</td>\n",
       "      <td>NaN</td>\n",
       "      <td>NaN</td>\n",
       "      <td>NaN</td>\n",
       "      <td>NaN</td>\n",
       "      <td>NaN</td>\n",
       "      <td>NaN</td>\n",
       "      <td>NaN</td>\n",
       "      <td>NaN</td>\n",
       "      <td>NaN</td>\n",
       "      <td>NaN</td>\n",
       "      <td>NaN</td>\n",
       "      <td>NaN</td>\n",
       "      <td>NaN</td>\n",
       "    </tr>\n",
       "  </tbody>\n",
       "</table>\n",
       "<p>813 rows × 16 columns</p>\n",
       "</div>"
      ],
      "text/plain": [
       "     Number   Sleep  Appetite  Interest  Fatigue  Worthlessness  \\\n",
       "0          1    1.0       1.0       1.0      5.0            5.0   \n",
       "1          2    2.0       5.0       5.0      1.0            1.0   \n",
       "2          3    5.0       2.0       2.0      2.0            2.0   \n",
       "3          4    1.0       1.0       1.0      5.0            5.0   \n",
       "4          5    2.0       5.0       5.0      1.0            1.0   \n",
       "..       ...    ...       ...       ...      ...            ...   \n",
       "808      809    NaN       NaN       NaN      NaN            NaN   \n",
       "809      810    NaN       NaN       NaN      NaN            NaN   \n",
       "810      811    NaN       NaN       NaN      NaN            NaN   \n",
       "811      812    NaN       NaN       NaN      NaN            NaN   \n",
       "812      813    NaN       NaN       NaN      NaN            NaN   \n",
       "\n",
       "     Concentration  Agitation  Suicidal Ideation  Sleep Disturbance  \\\n",
       "0              1.0        5.0                5.0                1.0   \n",
       "1              5.0        1.0                1.0                5.0   \n",
       "2              2.0        2.0                2.0                2.0   \n",
       "3              1.0        5.0                5.0                1.0   \n",
       "4              5.0        1.0                1.0                5.0   \n",
       "..             ...        ...                ...                ...   \n",
       "808            NaN        NaN                NaN                NaN   \n",
       "809            NaN        NaN                NaN                NaN   \n",
       "810            NaN        NaN                NaN                NaN   \n",
       "811            NaN        NaN                NaN                NaN   \n",
       "812            NaN        NaN                NaN                NaN   \n",
       "\n",
       "     Aggression  Panic Attacks  Hopelessness  Restlessness  Low Energy  \\\n",
       "0           5.0            5.0           5.0           5.0         5.0   \n",
       "1           1.0            1.0           1.0           1.0         1.0   \n",
       "2           2.0            2.0           2.0           2.0         2.0   \n",
       "3           5.0            5.0           5.0           5.0         5.0   \n",
       "4           1.0            1.0           1.0           1.0         1.0   \n",
       "..          ...            ...           ...           ...         ...   \n",
       "808         NaN            NaN           NaN           NaN         NaN   \n",
       "809         NaN            NaN           NaN           NaN         NaN   \n",
       "810         NaN            NaN           NaN           NaN         NaN   \n",
       "811         NaN            NaN           NaN           NaN         NaN   \n",
       "812         NaN            NaN           NaN           NaN         NaN   \n",
       "\n",
       "    Depression State  \n",
       "0               Mild  \n",
       "1           Moderate  \n",
       "2             Severe  \n",
       "3      No depression  \n",
       "4           Moderate  \n",
       "..               ...  \n",
       "808              NaN  \n",
       "809              NaN  \n",
       "810              NaN  \n",
       "811              NaN  \n",
       "812              NaN  \n",
       "\n",
       "[813 rows x 16 columns]"
      ]
     },
     "execution_count": 3,
     "metadata": {},
     "output_type": "execute_result"
    }
   ],
   "source": [
    "data = pd.read_csv(r'C:\\Adrian\\Universidad\\8vo Semestre\\4. Thu. - Inteligencia Artificial I\\Exercises\\Bedón, Ramos - Proyecto Final\\Deepression.csv')\n",
    "print(data.isnull().sum())\n",
    "data"
   ]
  },
  {
   "cell_type": "code",
   "execution_count": 4,
   "metadata": {},
   "outputs": [
    {
     "name": "stdout",
     "output_type": "stream",
     "text": [
      "Number               0\n",
      "Sleep                0\n",
      "Appetite             0\n",
      "Interest             0\n",
      "Fatigue              0\n",
      "Worthlessness        0\n",
      "Concentration        0\n",
      "Agitation            0\n",
      "Suicidal Ideation    0\n",
      "Sleep Disturbance    0\n",
      "Aggression           0\n",
      "Panic Attacks        0\n",
      "Hopelessness         0\n",
      "Restlessness         0\n",
      "Low Energy           0\n",
      "Depression State     0\n",
      "dtype: int64\n"
     ]
    }
   ],
   "source": [
    "cleaned_data = data.dropna()\n",
    "print(cleaned_data.isnull().sum())"
   ]
  },
  {
   "cell_type": "code",
   "execution_count": 5,
   "metadata": {},
   "outputs": [
    {
     "data": {
      "text/plain": [
       "<matplotlib.image.AxesImage at 0x2a53b028e10>"
      ]
     },
     "execution_count": 5,
     "metadata": {},
     "output_type": "execute_result"
    },
    {
     "data": {
      "image/png": "[encoded data removed]",
      "text/plain": [
       "<Figure size 640x480 with 1 Axes>"
      ]
     },
     "metadata": {},
     "output_type": "display_data"
    }
   ],
   "source": [
    "numeric_data = cleaned_data[['Sleep', 'Appetite', 'Interest', 'Fatigue', 'Worthlessness',\n",
    "       'Concentration', 'Agitation', 'Suicidal Ideation', 'Sleep Disturbance',\n",
    "       'Aggression', 'Panic Attacks', 'Hopelessness', 'Restlessness',\n",
    "       'Low Energy']]\n",
    "plt.imshow(numeric_data.corr())"
   ]
  },
  {
   "cell_type": "code",
   "execution_count": 6,
   "metadata": {},
   "outputs": [
    {
     "name": "stderr",
     "output_type": "stream",
     "text": [
      "C:\\Users\\arbed\\AppData\\Local\\Temp\\ipykernel_9940\\660209256.py:11: SettingWithCopyWarning: \n",
      "A value is trying to be set on a copy of a slice from a DataFrame.\n",
      "Try using .loc[row_indexer,col_indexer] = value instead\n",
      "\n",
      "See the caveats in the documentation: https://pandas.pydata.org/pandas-docs/stable/user_guide/indexing.html#returning-a-view-versus-a-copy\n",
      "  cleaned_data['Depression State'] = cleaned_data['Depression State'].apply(mapping)\n"
     ]
    }
   ],
   "source": [
    "def mapping(x):\n",
    "    if \"No depression\" in x:\n",
    "        return \"No depression\"\n",
    "    if \"Mild\" in x:\n",
    "        return \"Mild\"\n",
    "    if \"Severe\" in x:\n",
    "        return \"Severe\"\n",
    "    if \"Moderate\" in x:\n",
    "        return \"Moderate\"\n",
    "    \n",
    "cleaned_data['Depression State'] = cleaned_data['Depression State'].apply(mapping)"
   ]
  },
  {
   "cell_type": "code",
   "execution_count": 7,
   "metadata": {},
   "outputs": [
    {
     "name": "stdout",
     "output_type": "stream",
     "text": [
      "{'Mild': 0, 'Moderate': 1, 'Severe': 3, 'No depression': 2}\n"
     ]
    }
   ],
   "source": [
    "categorical_data = [\"Mild\", \"Moderate\", \"Severe\", \"No depression\"]\n",
    "numerical_data = label_encoder.fit_transform(categorical_data)\n",
    "print(dict(zip(categorical_data, numerical_data)))"
   ]
  },
  {
   "cell_type": "code",
   "execution_count": 8,
   "metadata": {},
   "outputs": [],
   "source": [
    "one_hot_encoded_data = pd.get_dummies(cleaned_data)"
   ]
  },
  {
   "cell_type": "code",
   "execution_count": 9,
   "metadata": {},
   "outputs": [],
   "source": [
    "X = cleaned_data.drop('Depression State', axis=1)\n",
    "X = X.drop('Number ', axis=1)\n",
    "Y = cleaned_data['Depression State']"
   ]
  },
  {
   "cell_type": "code",
   "execution_count": 10,
   "metadata": {},
   "outputs": [],
   "source": [
    "X_train, X_test, Y_train, Y_test = train_test_split(X, Y, test_size=0.1, random_state=42)"
   ]
  },
  {
   "cell_type": "code",
   "execution_count": 11,
   "metadata": {},
   "outputs": [
    {
     "name": "stdout",
     "output_type": "stream",
     "text": [
      "               precision    recall  f1-score   support\n",
      "\n",
      "         Mild      0.833     0.312     0.455        16\n",
      "     Moderate      0.238     0.455     0.312        11\n",
      "No depression      0.579     0.647     0.611        17\n",
      "       Severe      0.250     0.200     0.222        10\n",
      "\n",
      "     accuracy                          0.426        54\n",
      "    macro avg      0.475     0.404     0.400        54\n",
      " weighted avg      0.524     0.426     0.432        54\n",
      "\n"
     ]
    },
    {
     "data": {
      "text/plain": [
       "<sklearn.metrics._plot.confusion_matrix.ConfusionMatrixDisplay at 0x2a53afc9750>"
      ]
     },
     "execution_count": 11,
     "metadata": {},
     "output_type": "execute_result"
    },
    {
     "data": {
      "image/png": "[encoded data removed]",
      "text/plain": [
       "<Figure size 640x480 with 2 Axes>"
      ]
     },
     "metadata": {},
     "output_type": "display_data"
    }
   ],
   "source": [
    "mdl_snn = snn.MLPClassifier(hidden_layer_sizes=(50, 50), max_iter=1000000, random_state=42)\n",
    "mdl_snn.fit(X_train, Y_train)\n",
    "Y_pred = mdl_snn.predict(X_test)\n",
    "prediction_nNetwork = np.array(Y_pred)\n",
    "print(metrics.classification_report(Y_test, prediction_nNetwork, labels=mdl_snn.classes_, digits=3))\n",
    "cm =metrics.confusion_matrix(Y_test, prediction_nNetwork, labels=mdl_snn.classes_)\n",
    "disp = metrics.ConfusionMatrixDisplay(confusion_matrix=cm, display_labels=mdl_snn.classes_)\n",
    "disp.plot()"
   ]
  },
  {
   "cell_type": "code",
   "execution_count": 12,
   "metadata": {},
   "outputs": [
    {
     "name": "stdout",
     "output_type": "stream",
     "text": [
      "               precision    recall  f1-score   support\n",
      "\n",
      "         Mild      0.500     0.375     0.429        16\n",
      "     Moderate      0.000     0.000     0.000        11\n",
      "No depression      0.379     0.647     0.478        17\n",
      "       Severe      0.308     0.400     0.348        10\n",
      "\n",
      "     accuracy                          0.389        54\n",
      "    macro avg      0.297     0.356     0.314        54\n",
      " weighted avg      0.325     0.389     0.342        54\n",
      "\n"
     ]
    },
    {
     "name": "stderr",
     "output_type": "stream",
     "text": [
      "c:\\Users\\arbed\\AppData\\Local\\Programs\\Python\\Python311\\Lib\\site-packages\\sklearn\\metrics\\_classification.py:1517: UndefinedMetricWarning: Precision is ill-defined and being set to 0.0 in labels with no predicted samples. Use `zero_division` parameter to control this behavior.\n",
      "  _warn_prf(average, modifier, f\"{metric.capitalize()} is\", len(result))\n",
      "c:\\Users\\arbed\\AppData\\Local\\Programs\\Python\\Python311\\Lib\\site-packages\\sklearn\\metrics\\_classification.py:1517: UndefinedMetricWarning: Precision is ill-defined and being set to 0.0 in labels with no predicted samples. Use `zero_division` parameter to control this behavior.\n",
      "  _warn_prf(average, modifier, f\"{metric.capitalize()} is\", len(result))\n",
      "c:\\Users\\arbed\\AppData\\Local\\Programs\\Python\\Python311\\Lib\\site-packages\\sklearn\\metrics\\_classification.py:1517: UndefinedMetricWarning: Precision is ill-defined and being set to 0.0 in labels with no predicted samples. Use `zero_division` parameter to control this behavior.\n",
      "  _warn_prf(average, modifier, f\"{metric.capitalize()} is\", len(result))\n"
     ]
    },
    {
     "data": {
      "text/plain": [
       "<sklearn.metrics._plot.confusion_matrix.ConfusionMatrixDisplay at 0x2a53d24a250>"
      ]
     },
     "execution_count": 12,
     "metadata": {},
     "output_type": "execute_result"
    },
    {
     "data": {
      "image/png": "[encoded data removed]",
      "text/plain": [
       "<Figure size 640x480 with 2 Axes>"
      ]
     },
     "metadata": {},
     "output_type": "display_data"
    }
   ],
   "source": [
    "mdl_lrg = LogisticRegression(max_iter=10000000, random_state=42)\n",
    "mdl_lrg.fit(X_train, Y_train)\n",
    "Y_pred = mdl_lrg.predict(X_test)\n",
    "prediction_lRegression = np.array(Y_pred)\n",
    "print(metrics.classification_report(Y_test, prediction_lRegression, labels=mdl_lrg.classes_, digits=3))\n",
    "cm =metrics.confusion_matrix(Y_test, prediction_lRegression, labels=mdl_lrg.classes_)\n",
    "disp = metrics.ConfusionMatrixDisplay(confusion_matrix=cm, display_labels=mdl_lrg.classes_)\n",
    "disp.plot()"
   ]
  },
  {
   "cell_type": "code",
   "execution_count": 13,
   "metadata": {},
   "outputs": [
    {
     "name": "stdout",
     "output_type": "stream",
     "text": [
      "               precision    recall  f1-score   support\n",
      "\n",
      "         Mild      0.588     0.625     0.606        16\n",
      "     Moderate      0.500     0.091     0.154        11\n",
      "No depression      0.312     0.294     0.303        17\n",
      "       Severe      0.211     0.400     0.276        10\n",
      "\n",
      "     accuracy                          0.370        54\n",
      "    macro avg      0.403     0.353     0.335        54\n",
      " weighted avg      0.414     0.370     0.357        54\n",
      "\n"
     ]
    },
    {
     "data": {
      "text/plain": [
       "<sklearn.metrics._plot.confusion_matrix.ConfusionMatrixDisplay at 0x2a53d1dc7d0>"
      ]
     },
     "execution_count": 13,
     "metadata": {},
     "output_type": "execute_result"
    },
    {
     "data": {
      "image/png": "[encoded data removed]",
      "text/plain": [
       "<Figure size 640x480 with 2 Axes>"
      ]
     },
     "metadata": {},
     "output_type": "display_data"
    }
   ],
   "source": [
    "mdl_knn = neighbors.KNeighborsClassifier(n_neighbors=5)\n",
    "mdl_knn.fit(X_train, Y_train)\n",
    "Y_pred = mdl_knn.predict(X_test)\n",
    "prediction_neighbors = np.array(Y_pred)\n",
    "print(metrics.classification_report(Y_test, prediction_neighbors, labels=mdl_knn.classes_, digits=3))\n",
    "cm =metrics.confusion_matrix(Y_test, prediction_neighbors, labels=mdl_knn.classes_)\n",
    "disp = metrics.ConfusionMatrixDisplay(confusion_matrix=cm, display_labels=mdl_knn.classes_)\n",
    "disp.plot()"
   ]
  },
  {
   "cell_type": "code",
   "execution_count": 14,
   "metadata": {},
   "outputs": [
    {
     "name": "stdout",
     "output_type": "stream",
     "text": [
      "               precision    recall  f1-score   support\n",
      "\n",
      "         Mild      0.344     0.688     0.458        16\n",
      "     Moderate      0.000     0.000     0.000        11\n",
      "No depression      0.400     0.353     0.375        17\n",
      "       Severe      0.000     0.000     0.000        10\n",
      "\n",
      "     accuracy                          0.315        54\n",
      "    macro avg      0.186     0.260     0.208        54\n",
      " weighted avg      0.228     0.315     0.254        54\n",
      "\n"
     ]
    },
    {
     "name": "stderr",
     "output_type": "stream",
     "text": [
      "c:\\Users\\arbed\\AppData\\Local\\Programs\\Python\\Python311\\Lib\\site-packages\\sklearn\\metrics\\_classification.py:1517: UndefinedMetricWarning: Precision is ill-defined and being set to 0.0 in labels with no predicted samples. Use `zero_division` parameter to control this behavior.\n",
      "  _warn_prf(average, modifier, f\"{metric.capitalize()} is\", len(result))\n",
      "c:\\Users\\arbed\\AppData\\Local\\Programs\\Python\\Python311\\Lib\\site-packages\\sklearn\\metrics\\_classification.py:1517: UndefinedMetricWarning: Precision is ill-defined and being set to 0.0 in labels with no predicted samples. Use `zero_division` parameter to control this behavior.\n",
      "  _warn_prf(average, modifier, f\"{metric.capitalize()} is\", len(result))\n",
      "c:\\Users\\arbed\\AppData\\Local\\Programs\\Python\\Python311\\Lib\\site-packages\\sklearn\\metrics\\_classification.py:1517: UndefinedMetricWarning: Precision is ill-defined and being set to 0.0 in labels with no predicted samples. Use `zero_division` parameter to control this behavior.\n",
      "  _warn_prf(average, modifier, f\"{metric.capitalize()} is\", len(result))\n"
     ]
    },
    {
     "data": {
      "text/plain": [
       "<sklearn.metrics._plot.confusion_matrix.ConfusionMatrixDisplay at 0x2a53d236650>"
      ]
     },
     "execution_count": 14,
     "metadata": {},
     "output_type": "execute_result"
    },
    {
     "data": {
      "image/png": "[encoded data removed]",
      "text/plain": [
       "<Figure size 640x480 with 2 Axes>"
      ]
     },
     "metadata": {},
     "output_type": "display_data"
    }
   ],
   "source": [
    "mdl_svm = svm.SVC(kernel='sigmoid')\n",
    "mdl_svm.fit(X_train, Y_train)\n",
    "Y_pred = mdl_svm.predict(X_test)\n",
    "prediction_neighbors = np.array(Y_pred)\n",
    "print(metrics.classification_report(Y_test, prediction_neighbors, labels=mdl_svm.classes_, digits=3))\n",
    "cm =metrics.confusion_matrix(Y_test, prediction_neighbors, labels=mdl_svm.classes_)\n",
    "disp = metrics.ConfusionMatrixDisplay(confusion_matrix=cm, display_labels=mdl_svm.classes_)\n",
    "disp.plot()"
   ]
  },
  {
   "cell_type": "code",
   "execution_count": 15,
   "metadata": {},
   "outputs": [],
   "source": [
    "sleep = int(input())\n",
    "appetite = int(input())\n",
    "interest = int(input())\n",
    "fatigue = int(input())\n",
    "worthlessness = int(input())\n",
    "concentration = int(input())\n",
    "agitation = int(input())\n",
    "suicidal_ideation = int(input())\n",
    "sleep_disturbance = int(input())\n",
    "agression = int(input())\n",
    "panic_attacks = int(input())\n",
    "hopelessness = int(input())\n",
    "restlessness = int(input())\n",
    "low_energy = int(input())"
   ]
  },
  {
   "cell_type": "code",
   "execution_count": 16,
   "metadata": {},
   "outputs": [
    {
     "data": {
      "text/html": [
       "<div>\n",
       "<style scoped>\n",
       "    .dataframe tbody tr th:only-of-type {\n",
       "        vertical-align: middle;\n",
       "    }\n",
       "\n",
       "    .dataframe tbody tr th {\n",
       "        vertical-align: top;\n",
       "    }\n",
       "\n",
       "    .dataframe thead th {\n",
       "        text-align: right;\n",
       "    }\n",
       "</style>\n",
       "<table border=\"1\" class=\"dataframe\">\n",
       "  <thead>\n",
       "    <tr style=\"text-align: right;\">\n",
       "      <th></th>\n",
       "      <th>Sleep</th>\n",
       "      <th>Appetite</th>\n",
       "      <th>Interest</th>\n",
       "      <th>Fatigue</th>\n",
       "      <th>Worthlessness</th>\n",
       "      <th>Concentration</th>\n",
       "      <th>Agitation</th>\n",
       "      <th>Suicidal Ideation</th>\n",
       "      <th>Sleep Disturbance</th>\n",
       "      <th>Aggression</th>\n",
       "      <th>Panic Attacks</th>\n",
       "      <th>Hopelessness</th>\n",
       "      <th>Restlessness</th>\n",
       "      <th>Low Energy</th>\n",
       "    </tr>\n",
       "  </thead>\n",
       "  <tbody>\n",
       "    <tr>\n",
       "      <th>0</th>\n",
       "      <td>3</td>\n",
       "      <td>2</td>\n",
       "      <td>5</td>\n",
       "      <td>1</td>\n",
       "      <td>5</td>\n",
       "      <td>1</td>\n",
       "      <td>1</td>\n",
       "      <td>4</td>\n",
       "      <td>1</td>\n",
       "      <td>1</td>\n",
       "      <td>1</td>\n",
       "      <td>1</td>\n",
       "      <td>3</td>\n",
       "      <td>2</td>\n",
       "    </tr>\n",
       "  </tbody>\n",
       "</table>\n",
       "</div>"
      ],
      "text/plain": [
       "   Sleep  Appetite  Interest  Fatigue  Worthlessness  Concentration  \\\n",
       "0      3         2         5        1              5              1   \n",
       "\n",
       "   Agitation  Suicidal Ideation  Sleep Disturbance  Aggression  Panic Attacks  \\\n",
       "0          1                  4                  1           1              1   \n",
       "\n",
       "   Hopelessness  Restlessness  Low Energy  \n",
       "0             1             3           2  "
      ]
     },
     "execution_count": 16,
     "metadata": {},
     "output_type": "execute_result"
    }
   ],
   "source": [
    "data_dict = {'Sleep': sleep, \n",
    "            'Appetite': appetite, \n",
    "            'Interest': interest, \n",
    "            'Fatigue': fatigue, \n",
    "            'Worthlessness': worthlessness, \n",
    "            'Concentration': concentration,\n",
    "            'Agitation': agitation,\n",
    "            'Suicidal Ideation': suicidal_ideation,\n",
    "            'Sleep Disturbance': sleep_disturbance,\n",
    "            'Aggression': agression,\n",
    "            'Panic Attacks': panic_attacks,\n",
    "            'Hopelessness': hopelessness,\n",
    "            'Restlessness': restlessness,\n",
    "            'Low Energy': low_energy}\n",
    "\n",
    "data_production = pd.DataFrame(data_dict, index=[0])\n",
    "data_production"
   ]
  },
  {
   "cell_type": "code",
   "execution_count": 17,
   "metadata": {},
   "outputs": [
    {
     "name": "stdout",
     "output_type": "stream",
     "text": [
      "['Mild']\n",
      "['Mild']\n",
      "['No depression']\n",
      "['Mild']\n"
     ]
    }
   ],
   "source": [
    "Y_pred_lrg = mdl_lrg.predict(data_production)\n",
    "Y_pred_snn = mdl_snn.predict(data_production)\n",
    "Y_pred_knn = mdl_knn.predict(data_production)\n",
    "Y_pred_svm = mdl_svm.predict(data_production)\n",
    "prediction_lRegression = np.array(Y_pred_lrg)\n",
    "prediction_nNetwork = np.array(Y_pred_snn)\n",
    "prediction_nNeighbors = np.array(Y_pred_knn)\n",
    "prediction_svMachine = np.array(Y_pred_svm)\n",
    "print(prediction_lRegression)\n",
    "print(prediction_nNetwork)\n",
    "print(prediction_nNeighbors)\n",
    "print(prediction_svMachine)"
   ]
  }
 ],
 "metadata": {
  "kernelspec": {
   "display_name": "Python 3",
   "language": "python",
   "name": "python3"
  },
  "language_info": {
   "codemirror_mode": {
    "name": "ipython",
    "version": 3
   },
   "file_extension": ".py",
   "mimetype": "text/x-python",
   "name": "python",
   "nbconvert_exporter": "python",
   "pygments_lexer": "ipython3",
   "version": "3.11.5"
  }
 },
 "nbformat": 4,
 "nbformat_minor": 2
}
