{
 "cells": [
  {
   "cell_type": "code",
   "execution_count": 1,
   "metadata": {},
   "outputs": [],
   "source": [
    "#Included libraries\n",
    "import math\n",
    "import copy\n",
    "import numpy as np\n",
    "\n",
    "import matplotlib.pyplot as plt\n",
    "from matplotlib.colors import ListedColormap"
   ]
  },
  {
   "cell_type": "code",
   "execution_count": 2,
   "metadata": {},
   "outputs": [],
   "source": [
    "class Node:\n",
    "    def __init__(self, state):\n",
    "        self.state = state\n",
    "        self.parent = None\n",
    "        self.action = None\n",
    "\n",
    "    def print(self):\n",
    "        if len(self.state) == 8:\n",
    "            print(self.state)\n",
    "        print(\"\")\n",
    "\n",
    "    def backwardList(self):\n",
    "        answerList = [self]\n",
    "        while answerList[0].parent != None:\n",
    "            answerList.insert(0, answerList[0].parent)\n",
    "        return answerList"
   ]
  },
  {
   "cell_type": "code",
   "execution_count": 3,
   "metadata": {},
   "outputs": [],
   "source": [
    "class Problem:\n",
    "    def __init__(self, initialSate):\n",
    "        self.initialNode = Node(initialSate)\n",
    "        self.size = len(initialSate)\n",
    "\n",
    "    def isGoal(self, node):\n",
    "        if node.state.max() != 8:\n",
    "            return False\n",
    "        else:\n",
    "            return True\n",
    "\n",
    "    def actions(self, node):\n",
    "        positions = []\n",
    "        positions = np.where(node.state == 0)\n",
    "        return positions\n",
    "    \n",
    "    def transition(self, node, action):\n",
    "        old = node.state\n",
    "        new = copy.deepcopy(old)\n",
    "        new[action] = new.max() + 1\n",
    "        posEvaluated = np.where(new > 0)\n",
    "        for posFilled in posEvaluated[-1]:\n",
    "            if (new.max() != new[posFilled]):\n",
    "                    difRows = (new.max() - 1) - (new[posFilled] - 1)\n",
    "                    difColumns = abs((np.where(new == new.max())[-1][-1]) - (np.where(new == new[posFilled])[-1][-1]))\n",
    "                    difRowColA = ((new.max() - 1) - (np.where(new == new.max())[-1][-1]))\n",
    "                    difRowColB = ((new[posFilled] - 1) - (np.where(new == new[posFilled])[-1][-1]))\n",
    "                    sumRowColA = ((new.max() - 1) + (np.where(new == new.max())[-1][-1]))\n",
    "                    sumRowColB = ((new[posFilled] - 1) + (np.where(new == new[posFilled])[-1][-1]))\n",
    "                    if ((difRows == difColumns) or (difRowColA == difRowColB) or (sumRowColB == sumRowColA)):\n",
    "                        return None\n",
    "        transitionedNode = copy.deepcopy(node)\n",
    "        transitionedNode.state = new\n",
    "        return transitionedNode\n",
    "    \n",
    "    def expand(self, node):\n",
    "        newNodes = []\n",
    "        if (np.all(node.state == [0,0,0,0,0,0,0,0])):\n",
    "            action = np.random.choice(self.actions(node)[-1],1)\n",
    "            newNode = Node(self.transition(node, action).state)\n",
    "            newNode.parent = node\n",
    "            newNode.action = action\n",
    "            newNodes.append(newNode)\n",
    "        else:\n",
    "            for action in self.actions(node)[-1]:\n",
    "                result = self.transition(node, action)\n",
    "                if(result is not None):\n",
    "                    newNode = Node(result.state)\n",
    "                    newNode.parent = node\n",
    "                    newNode.action = action\n",
    "                    newNodes.append(newNode)\n",
    "        return newNodes    "
   ]
  },
  {
   "cell_type": "code",
   "execution_count": 4,
   "metadata": {},
   "outputs": [],
   "source": [
    "def DFS(problem):\n",
    "    frontier = []\n",
    "    reached = set()\n",
    "    frontier.append(problem.initialNode)\n",
    "    reached.add(tuple(problem.initialNode.state))\n",
    "    while len(frontier) != 0:\n",
    "        currentNode = frontier.pop()\n",
    "        if problem.isGoal(currentNode):\n",
    "            print(\"There are {0} nodes in the frontier\".format(len(frontier)))\n",
    "            print(\"There are {0} reached nodes\".format(len(reached)))\n",
    "            return currentNode\n",
    "            break\n",
    "        for child in problem.expand(currentNode):\n",
    "            if tuple(child.state) not in reached:\n",
    "                reached.add(tuple(child.state))\n",
    "                frontier.append(child)\n",
    "    return None"
   ]
  },
  {
   "cell_type": "code",
   "execution_count": 5,
   "metadata": {},
   "outputs": [],
   "source": [
    "def Graph(result):\n",
    "    dx, dy = 1, 1\n",
    "    P = np.arange(1, 8, dx)\n",
    "    Q = np.arange(1, 8, dy)\n",
    "    P, Q = np.meshgrid(P, Q)\n",
    "    res = np.add.outer(range(8), range(8)) % 2\n",
    "\n",
    "    for i in result:\n",
    "        res[i - 1, int(np.where(result == i)[-1])] = 2\n",
    "\n",
    "    cmap = ListedColormap(['black', 'white', 'green'])\n",
    "\n",
    "    plt.imshow(res, cmap=cmap)\n",
    "    plt.xticks([])\n",
    "    plt.yticks([])\n",
    "    plt.show()"
   ]
  },
  {
   "cell_type": "code",
   "execution_count": 6,
   "metadata": {},
   "outputs": [
    {
     "name": "stdout",
     "output_type": "stream",
     "text": [
      "There are 7 nodes in the frontier\n",
      "There are 27 reached nodes\n",
      "These are the 8 steps to reach the goal node:\n",
      "[0 0 0 0 0 0 0 0]\n",
      "\n",
      "[0 1 0 0 0 0 0 0]\n",
      "\n",
      "[0 1 0 0 0 0 0 2]\n",
      "\n",
      "[0 1 0 0 0 3 0 2]\n",
      "\n",
      "[4 1 0 0 0 3 0 2]\n",
      "\n",
      "[4 1 5 0 0 3 0 2]\n",
      "\n",
      "[4 1 5 0 6 3 0 2]\n",
      "\n",
      "[4 1 5 0 6 3 7 2]\n",
      "\n",
      "[4 1 5 8 6 3 7 2]\n",
      "\n"
     ]
    },
    {
     "data": {
      "image/png": "[encoded data removed]",
      "text/plain": [
       "<Figure size 640x480 with 1 Axes>"
      ]
     },
     "metadata": {},
     "output_type": "display_data"
    },
    {
     "ename": "",
     "evalue": "",
     "output_type": "error",
     "traceback": [
      "\u001b[1;31mThe Kernel crashed while executing code in the current cell or a previous cell. \n",
      "\u001b[1;31mPlease review the code in the cell(s) to identify a possible cause of the failure. \n",
      "\u001b[1;31mClick <a href='https://aka.ms/vscodeJupyterKernelCrash'>here</a> for more info. \n",
      "\u001b[1;31mView Jupyter <a href='command:jupyter.viewOutput'>log</a> for further details."
     ]
    }
   ],
   "source": [
    "initialState = np.zeros(8, dtype=int)\n",
    "answer = DFS(Problem(initialState))\n",
    "if answer != None:\n",
    "    path = answer.backwardList()\n",
    "    print(\"These are the {0} steps to reach the goal node:\".format(len(path)-1))\n",
    "    for n in path:\n",
    "        n.print()\n",
    "    Graph(path[-1].state)\n",
    "else:\n",
    "    print(\"The search has failed!\")\n",
    "    print(\"The initial state was:\")\n",
    "    Node(initialState).print()"
   ]
  }
 ],
 "metadata": {
  "kernelspec": {
   "display_name": "Python 3",
   "language": "python",
   "name": "python3"
  },
  "language_info": {
   "codemirror_mode": {
    "name": "ipython",
    "version": 3
   },
   "file_extension": ".py",
   "mimetype": "text/x-python",
   "name": "python",
   "nbconvert_exporter": "python",
   "pygments_lexer": "ipython3",
   "version": "3.11.5"
  }
 },
 "nbformat": 4,
 "nbformat_minor": 2
}
