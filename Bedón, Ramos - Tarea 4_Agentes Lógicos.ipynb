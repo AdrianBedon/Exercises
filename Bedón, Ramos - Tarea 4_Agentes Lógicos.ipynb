{
 "cells": [
  {
   "cell_type": "code",
   "execution_count": 14,
   "metadata": {},
   "outputs": [],
   "source": [
    "#Importación de librerías\n",
    "import sympy"
   ]
  },
  {
   "cell_type": "markdown",
   "metadata": {},
   "source": [
    "### Ejercicio 3"
   ]
  },
  {
   "cell_type": "code",
   "execution_count": 15,
   "metadata": {},
   "outputs": [],
   "source": [
    "A, B, Q = sympy.symbols('A B Q')"
   ]
  },
  {
   "cell_type": "code",
   "execution_count": 16,
   "metadata": {},
   "outputs": [
    {
     "name": "stdout",
     "output_type": "stream",
     "text": [
      "Phi1 |= Phi2\n",
      "Phi2 |= Phi1\n"
     ]
    }
   ],
   "source": [
    "Phi1  = A & (B | Q)\n",
    "Phi2  = (A & B) | (A & Q)\n",
    "\n",
    "#Validación de Φ1 |= Φ2\n",
    "if sympy.satisfiable(Phi1 & ~Phi2):\n",
    "    print(\"Phi1 NO |= Phi2\")\n",
    "else:\n",
    "    print(\"Phi1 |= Phi2\")\n",
    "\n",
    "#Validación de Φ2 |= Φ1\n",
    "if sympy.satisfiable(Phi2 & ~Phi1):\n",
    "    print(\"Phi2 NO |= Phi1\")\n",
    "else:\n",
    "    print(\"Phi2 |= Phi1\")"
   ]
  },
  {
   "cell_type": "markdown",
   "metadata": {},
   "source": [
    "### Ejercicio 4"
   ]
  },
  {
   "cell_type": "code",
   "execution_count": 17,
   "metadata": {},
   "outputs": [],
   "source": [
    "#Proposiciones:\n",
    "\n",
    "#p: “It’s sunny”\n",
    "#q: “It’s colder than yesterday”\n",
    "#r: “We will go swimming”\n",
    "#s: “We will take a canoe trip”\n",
    "#t: “We will be home by sunset”\n",
    "\n",
    "p, q, r, s, t = sympy.symbols('p q r s t')"
   ]
  },
  {
   "cell_type": "code",
   "execution_count": 18,
   "metadata": {},
   "outputs": [],
   "source": [
    "#Premisas:\n",
    "\n",
    "#a. “It’s not sunny and it’s colder than yesterday”\n",
    "#b. “We will go swimming only if it’s sunny”\n",
    "#c. “If we don’t go swimming then we will take canoe trip”\n",
    "#d. “If we take a canoe trip, then we will be home by sunset”\n",
    "\n",
    "premisa1 = ~p & q\n",
    "premisa2 = r >> p\n",
    "premisa3 = ~r >> s\n",
    "premisa4 = s >> t"
   ]
  },
  {
   "cell_type": "code",
   "execution_count": 19,
   "metadata": {},
   "outputs": [
    {
     "name": "stdout",
     "output_type": "stream",
     "text": [
      "Podemos deducir que estaremos en casa al atardecer.\n"
     ]
    }
   ],
   "source": [
    "#Conversión a CNF de cada una de las premisas\n",
    "cnf_premisa1 = sympy.to_cnf(premisa1)\n",
    "cnf_premisa2 = sympy.to_cnf(premisa2)\n",
    "cnf_premisa3 = sympy.to_cnf(premisa3)\n",
    "cnf_premisa4 = sympy.to_cnf(premisa4)\n",
    "\n",
    "#Creación de KB\n",
    "kb_cnf = cnf_premisa1 & cnf_premisa2 & cnf_premisa3 & cnf_premisa4\n",
    "\n",
    "#Definición de la conclusión\n",
    "conclusion = t\n",
    "\n",
    "#Validación del teorema\n",
    "if sympy.satisfiable(kb_cnf & ~conclusion):\n",
    "    print(\"No se puede deducir que estaremos en casa al atardecer.\")\n",
    "else:\n",
    "    print(\"Podemos deducir que estaremos en casa al atardecer.\")"
   ]
  },
  {
   "cell_type": "markdown",
   "metadata": {},
   "source": [
    "### Ejercicio 5"
   ]
  },
  {
   "cell_type": "code",
   "execution_count": 20,
   "metadata": {},
   "outputs": [
    {
     "name": "stdout",
     "output_type": "stream",
     "text": [
      "kb NO |= theorem\n",
      "kb NO |= theorem\n",
      "kb NO |= theorem\n",
      "kb |= theorem\n"
     ]
    }
   ],
   "source": [
    "#P: Los autos híbridos son buenos para el medio ambiente\n",
    "#Q: Es posible que los autos híbridos no funcionen tan bien como los autos que funcionan solo con gasolina\n",
    "#R: El Toyota Prius obtiene un gran kilometraje de gasolina\n",
    "#S: El Toyota Prius tiene bajas emisiones\n",
    "#T: El Toyota Prius es una buena opción verde\n",
    "#U: Mucha gente piensa que el Toyota Prius es poco atractivo.\n",
    "#V: El Toyota Prius no puede acelerar tan rápido como otros modelos\n",
    "#W: El Toyota Prius no puede contener tantos pasajeros como SUV de gasolina más grandes\n",
    "#X: Los autos híbridos ahorran dinero en combustible\n",
    "#Y: Los autos híbridos cuestan más por adelantado que los autos de gasolina\n",
    "#Z: Un auto híbrido puede costar casi $3500 más que un automóvil configurado para funcionar solo con gasolina\n",
    "\n",
    "#Por lo tanto KB = [(P & Q), (R & S) >> T, U, (V & W), (X & Y) >> Z]\n",
    "\n",
    "P, Q, R, S, T, U, V, W, X, Y, Z, A, B, C = sympy.symbols('P Q R S T U V W X Y Z A B C')\n",
    "kb = (P & Q) & ((R & S) >> T) & U & (V & W) & ((X & Y) >> Z)\n",
    "theorem1 = A #Los autos híbridos son más peligrosos que otras opciones.\n",
    "theorem2 = B #Toyota está ganando mucho dinero con el Prius.\n",
    "theorem3 = C #Los autos que usan gasolina van a destruir el medio ambiente\n",
    "theorem4 = U | W | Y #Los autos híbridos pueden no ser la mejor opción para todos.\n",
    "\n",
    "theorems = [theorem1, theorem2, theorem3, theorem4]\n",
    "\n",
    "for theorem in theorems:\n",
    "    if sympy.satisfiable(kb & ~theorem):\n",
    "        print(\"kb NO |= theorem\")\n",
    "    else:\n",
    "        print(\"kb |= theorem\")\n"
   ]
  }
 ],
 "metadata": {
  "kernelspec": {
   "display_name": "Python 3",
   "language": "python",
   "name": "python3"
  },
  "language_info": {
   "codemirror_mode": {
    "name": "ipython",
    "version": 3
   },
   "file_extension": ".py",
   "mimetype": "text/x-python",
   "name": "python",
   "nbconvert_exporter": "python",
   "pygments_lexer": "ipython3",
   "version": "3.11.5"
  }
 },
 "nbformat": 4,
 "nbformat_minor": 2
}
